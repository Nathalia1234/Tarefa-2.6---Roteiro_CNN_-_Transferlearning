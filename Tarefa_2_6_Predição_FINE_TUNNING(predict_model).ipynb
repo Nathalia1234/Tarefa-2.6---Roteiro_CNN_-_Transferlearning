{
  "nbformat": 4,
  "nbformat_minor": 0,
  "metadata": {
    "colab": {
      "provenance": [],
      "authorship_tag": "ABX9TyP9jDhzJvv5fjVZDczZN0Vs",
      "include_colab_link": true
    },
    "kernelspec": {
      "name": "python3",
      "display_name": "Python 3"
    },
    "language_info": {
      "name": "python"
    }
  },
  "cells": [
    {
      "cell_type": "markdown",
      "metadata": {
        "id": "view-in-github",
        "colab_type": "text"
      },
      "source": [
        "<a href=\"https://colab.research.google.com/github/Nathalia1234/Tarefa-2.6---Roteiro_CNN_-_Transferlearning/blob/main/Tarefa_2_6_Predi%C3%A7%C3%A3o_FINE_TUNNING(predict_model).ipynb\" target=\"_parent\"><img src=\"https://colab.research.google.com/assets/colab-badge.svg\" alt=\"Open In Colab\"/></a>"
      ]
    },
    {
      "cell_type": "code",
      "execution_count": null,
      "metadata": {
        "id": "UzkG-aV437Ht"
      },
      "outputs": [],
      "source": [
        "from tensorflow.keras.models import load_model\n",
        "import numpy as np\n",
        "from tensorflow.keras.preprocessing import image\n",
        "\n",
        "# Carregar o modelo salvo\n",
        "model = load_model('best_model.h5')\n",
        "\n",
        "# Carregar uma imagem de teste\n",
        "img_path = 'path/to/image.jpg'  # Caminho para a imagem de teste\n",
        "img = image.load_img(img_path, target_size=(224, 224))\n",
        "img_array = image.img_to_array(img) / 255.0\n",
        "img_array = np.expand_dims(img_array, axis=0)\n",
        "\n",
        "# Realizar predição\n",
        "prediction = model.predict(img_array)\n",
        "predicted_class = np.argmax(prediction)\n",
        "print(f\"Classe prevista: {predicted_class}\")\n"
      ]
    }
  ]
}