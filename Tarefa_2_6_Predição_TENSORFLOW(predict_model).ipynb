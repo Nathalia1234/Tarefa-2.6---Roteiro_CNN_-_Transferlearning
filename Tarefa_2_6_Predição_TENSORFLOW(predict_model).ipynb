{
  "nbformat": 4,
  "nbformat_minor": 0,
  "metadata": {
    "colab": {
      "provenance": [],
      "authorship_tag": "ABX9TyO4gnkqBaYT9gvS6rGi9iMn",
      "include_colab_link": true
    },
    "kernelspec": {
      "name": "python3",
      "display_name": "Python 3"
    },
    "language_info": {
      "name": "python"
    }
  },
  "cells": [
    {
      "cell_type": "markdown",
      "metadata": {
        "id": "view-in-github",
        "colab_type": "text"
      },
      "source": [
        "<a href=\"https://colab.research.google.com/github/Nathalia1234/Tarefa-2.6---Roteiro_CNN_-_Transferlearning/blob/main/Tarefa_2_6_Predi%C3%A7%C3%A3o_TENSORFLOW(predict_model).ipynb\" target=\"_parent\"><img src=\"https://colab.research.google.com/assets/colab-badge.svg\" alt=\"Open In Colab\"/></a>"
      ]
    },
    {
      "cell_type": "code",
      "execution_count": null,
      "metadata": {
        "id": "BTejohmNvU9l"
      },
      "outputs": [],
      "source": [
        "#Importação de Bibliotecas e Carregamento do Modelo\n",
        "import tensorflow as tf\n",
        "from tensorflow.keras.models import load_model\n",
        "from tensorflow.keras.preprocessing import image\n",
        "import numpy as np\n",
        "\n",
        "# Carregar o modelo salvo\n",
        "model = load_model('best_model.keras')\n",
        "#Carregar Novos Dados e Realizar Predições\n",
        "# Exemplo de carregamento de uma nova imagem e predição\n",
        "# Substitua por seu caminho ou carregamento de dados real\n",
        "# Caminho para a imagem de teste\n",
        "img_path = 'path/to/your/image.jpg'  # Substitua pelo caminho da sua imagem de teste\n",
        "\n",
        "# Carregar e pré-processar a imagem\n",
        "img = image.load_img(img_path, target_size=(224, 224))  # Ajuste o tamanho conforme necessário\n",
        "img_array = image.img_to_array(img) / 255.0  # Normalizar\n",
        "img_array = np.expand_dims(img_array, axis=0)  # Adicionar dimensão para batch\n",
        "\n",
        "# Realizar a predição\n",
        "prediction = model.predict(img_array)\n",
        "predicted_class = np.argmax(prediction)\n",
        "print(f\"Classe prevista: {predicted_class}\")\n"
      ]
    }
  ]
}